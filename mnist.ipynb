{
 "cells": [
  {
   "cell_type": "code",
   "execution_count": 4,
   "id": "987f0eb2-00f3-4eef-a5d3-c25efe4717d2",
   "metadata": {},
   "outputs": [
    {
     "name": "stderr",
     "output_type": "stream",
     "text": [
      "/home/david/anaconda3/envs/ml_flow/lib/python3.11/site-packages/tqdm/auto.py:21: TqdmWarning: IProgress not found. Please update jupyter and ipywidgets. See https://ipywidgets.readthedocs.io/en/stable/user_install.html\n",
      "  from .autonotebook import tqdm as notebook_tqdm\n"
     ]
    }
   ],
   "source": [
    "import tensorflow as tf\n",
    "import tensorflow_datasets as tfds"
   ]
  },
  {
   "cell_type": "code",
   "execution_count": null,
   "id": "ef6cf8c3-ce47-42d3-b553-381fe4147b5f",
   "metadata": {},
   "outputs": [],
   "source": [
    "(ds_train, ds_test), ds_info = tfds.load(\n",
    "    'mnist',\n",
    "    split=['train', 'test'],\n",
    "    shuffle_files=True,\n",
    "    as_supervised=True,\n",
    "    with_info=True,\n",
    ")\n"
   ]
  },
  {
   "cell_type": "code",
   "execution_count": 9,
   "id": "f294ffeb-f3fb-4cd4-81fd-2d033565b4fc",
   "metadata": {},
   "outputs": [],
   "source": [
    "def normalize_img(image, label):\n",
    "    \"\"\"Normalizes images: `uint8` -> `float32`.\"\"\"\n",
    "    return tf.cast(image, tf.float32) / 255., label\n",
    "\n",
    "ds_train = ds_train.map(\n",
    "    normalize_img, num_parallel_calls=tf.data.AUTOTUNE)\n",
    "ds_train = ds_train.cache()\n",
    "ds_train = ds_train.shuffle(ds_info.splits['train'].num_examples)\n",
    "ds_train = ds_train.batch(128)\n",
    "ds_train = ds_train.prefetch(tf.data.AUTOTUNE)"
   ]
  },
  {
   "cell_type": "code",
   "execution_count": 11,
   "id": "04d38a4e-d11b-4a57-9440-82e59345bf8f",
   "metadata": {},
   "outputs": [],
   "source": [
    "ds_test = ds_test.map(\n",
    "    normalize_img, num_parallel_calls=tf.data.AUTOTUNE)\n",
    "ds_test = ds_test.batch(128)\n",
    "ds_test = ds_test.cache()\n",
    "ds_test = ds_test.prefetch(tf.data.AUTOTUNE)"
   ]
  },
  {
   "cell_type": "code",
   "execution_count": null,
   "id": "f48a45e4-6b70-4067-baa2-6d97cc2699e6",
   "metadata": {},
   "outputs": [],
   "source": [
    "model = tf.keras.models.Sequential([\n",
    "  tf.keras.layers.Flatten(input_shape=(28, 28)),\n",
    "  tf.keras.layers.Dense(128, activation='relu'),\n",
    "  tf.keras.layers.Dense(10)\n",
    "])\n",
    "model.compile(\n",
    "    optimizer=tf.keras.optimizers.Adam(0.001),\n",
    "    loss=tf.keras.losses.SparseCategoricalCrossentropy(from_logits=True),\n",
    "    metrics=[tf.keras.metrics.SparseCategoricalAccuracy()],\n",
    ")\n",
    "\n",
    "model.fit(\n",
    "    ds_train,\n",
    "    epochs=6,\n",
    "    validation_data=ds_test,\n",
    ")\n"
   ]
  },
  {
   "cell_type": "code",
   "execution_count": 14,
   "id": "3d882936-4c33-4a0d-b3b5-5d1ad76ffdbf",
   "metadata": {},
   "outputs": [
    {
     "name": "stdout",
     "output_type": "stream",
     "text": [
      "Model: \"sequential\"\n",
      "_________________________________________________________________\n",
      " Layer (type)                Output Shape              Param #   \n",
      "=================================================================\n",
      " flatten (Flatten)           (None, 784)               0         \n",
      "                                                                 \n",
      " dense (Dense)               (None, 128)               100480    \n",
      "                                                                 \n",
      " dense_1 (Dense)             (None, 10)                1290      \n",
      "                                                                 \n",
      "=================================================================\n",
      "Total params: 101,770\n",
      "Trainable params: 101,770\n",
      "Non-trainable params: 0\n",
      "_________________________________________________________________\n"
     ]
    }
   ],
   "source": [
    "model.summary()"
   ]
  },
  {
   "cell_type": "code",
   "execution_count": 62,
   "id": "8d87bcbc-ce02-463e-81c6-d03798d6a09b",
   "metadata": {},
   "outputs": [],
   "source": [
    "from tensorflow.keras.datasets import mnist\n",
    "import numpy as np\n",
    "import matplotlib.pyplot as plt\n",
    "from tensorflow.keras.utils import to_categorical"
   ]
  },
  {
   "cell_type": "code",
   "execution_count": 26,
   "id": "f4d934d2-a137-4dee-b28f-d9290e056b2a",
   "metadata": {},
   "outputs": [],
   "source": [
    "(x_train, y_train), (x_test, y_test) = mnist.load_data()"
   ]
  },
  {
   "cell_type": "code",
   "execution_count": 41,
   "id": "20007c53-1d01-44c2-ab47-f819da35bd6a",
   "metadata": {},
   "outputs": [
    {
     "data": {
      "text/plain": [
       "<matplotlib.image.AxesImage at 0x7f1740499550>"
      ]
     },
     "execution_count": 41,
     "metadata": {},
     "output_type": "execute_result"
    },
    {
     "data": {
      "image/png": "[encoded data removed]",
      "text/plain": [
       "<Figure size 640x480 with 1 Axes>"
      ]
     },
     "metadata": {},
     "output_type": "display_data"
    }
   ],
   "source": [
    "plt.imshow(x_train[0])"
   ]
  },
  {
   "cell_type": "code",
   "execution_count": 47,
   "id": "ff969ed3-be99-487d-b12f-3a54ab586667",
   "metadata": {},
   "outputs": [],
   "source": [
    "def normalize(img):\n",
    "    return img/255."
   ]
  },
  {
   "cell_type": "code",
   "execution_count": 48,
   "id": "cdbbdc0d-d39e-448c-882a-852a5eeeefa6",
   "metadata": {},
   "outputs": [
    {
     "name": "stdout",
     "output_type": "stream",
     "text": [
      "255\n"
     ]
    }
   ],
   "source": [
    "print(np.max(x_train[0]))"
   ]
  },
  {
   "cell_type": "code",
   "execution_count": 49,
   "id": "a858d0a7-36f5-420d-9531-3c025f56a421",
   "metadata": {},
   "outputs": [],
   "source": [
    "x_train_normalized =  normalize(x_train[0])"
   ]
  },
  {
   "cell_type": "code",
   "execution_count": 54,
   "id": "c834542f-0556-4bec-a296-39248492ab9a",
   "metadata": {},
   "outputs": [
    {
     "name": "stdout",
     "output_type": "stream",
     "text": [
      "1.0\n"
     ]
    }
   ],
   "source": [
    "print(np.max(x_train_normalized))"
   ]
  },
  {
   "cell_type": "code",
   "execution_count": 58,
   "id": "ec21ebee-e08a-4581-bd57-085aa5c40813",
   "metadata": {},
   "outputs": [],
   "source": [
    "x_train_normalized =  normalize(x_train)\n",
    "x_test_normalized =  normalize(x_test)"
   ]
  },
  {
   "cell_type": "code",
   "execution_count": 68,
   "id": "05d2d452-6f42-4c55-a68d-b8d446c2054f",
   "metadata": {},
   "outputs": [],
   "source": [
    "# How to find out how many categories are there? Lets look whats actually in the y_test"
   ]
  },
  {
   "cell_type": "code",
   "execution_count": 71,
   "id": "acf2a8a0-2034-4055-8c1d-a2ece0eda8d4",
   "metadata": {},
   "outputs": [
    {
     "data": {
      "text/plain": [
       "2"
      ]
     },
     "execution_count": 71,
     "metadata": {},
     "output_type": "execute_result"
    }
   ],
   "source": [
    "y_test[35]"
   ]
  },
  {
   "cell_type": "code",
   "execution_count": 72,
   "id": "8b978df4-f04c-46ba-b01c-7915e23035c6",
   "metadata": {},
   "outputs": [],
   "source": [
    "# Its a categorical value. Let's have fun with numpy and get a random sample to get a better idea "
   ]
  },
  {
   "cell_type": "code",
   "execution_count": 74,
   "id": "177926a6-43d5-4900-b1c4-b6b881ec2fcf",
   "metadata": {},
   "outputs": [
    {
     "data": {
      "text/plain": [
       "array([4, 9, 5, 6, 8, 8, 5, 6, 8, 4], dtype=uint8)"
      ]
     },
     "execution_count": 74,
     "metadata": {},
     "output_type": "execute_result"
    }
   ],
   "source": [
    "np.random.choice(y_test, 10)"
   ]
  },
  {
   "cell_type": "code",
   "execution_count": 75,
   "id": "fd644a67-5826-4878-bf8f-177d6ef63141",
   "metadata": {},
   "outputs": [],
   "source": [
    "# categories are seemingly denoted by a category number, but just to be sure what possibilities we can find..."
   ]
  },
  {
   "cell_type": "code",
   "execution_count": 76,
   "id": "4c97cdbf-8bb5-4951-9815-48afe5382169",
   "metadata": {},
   "outputs": [
    {
     "data": {
      "text/plain": [
       "array([0, 1, 2, 3, 4, 5, 6, 7, 8, 9], dtype=uint8)"
      ]
     },
     "execution_count": 76,
     "metadata": {},
     "output_type": "execute_result"
    }
   ],
   "source": [
    "np.unique(y_test)"
   ]
  },
  {
   "cell_type": "code",
   "execution_count": 77,
   "id": "309752d2-532e-4a31-8080-43076aa3c6f6",
   "metadata": {},
   "outputs": [],
   "source": [
    "# ok its values from 0, to 9. Is the distribution at least somewhat balanced?"
   ]
  },
  {
   "cell_type": "code",
   "execution_count": 78,
   "id": "e9e81967-6375-4236-a653-1d0b5bf26c66",
   "metadata": {},
   "outputs": [
    {
     "data": {
      "text/plain": [
       "(array([0, 1, 2, 3, 4, 5, 6, 7, 8, 9], dtype=uint8),\n",
       " array([ 980, 1135, 1032, 1010,  982,  892,  958, 1028,  974, 1009]))"
      ]
     },
     "execution_count": 78,
     "metadata": {},
     "output_type": "execute_result"
    }
   ],
   "source": [
    "np.unique(y_test, return_counts=True)"
   ]
  },
  {
   "cell_type": "code",
   "execution_count": null,
   "id": "62387639-8299-4edd-8889-de8f790f061a",
   "metadata": {},
   "outputs": [],
   "source": [
    "# kiiinda, there's a cca 20 % imbalance between the most used category and least. It should be fine, but if we are going to be "
   ]
  },
  {
   "cell_type": "code",
   "execution_count": 90,
   "id": "1973de5c-e193-41b5-8cef-4942e8c4361b",
   "metadata": {},
   "outputs": [],
   "source": [
    "y_test = to_categorical(y_test, np.max(y_test)+1)\n",
    "y_train = to_categorical(y_train, np.max(y_train)+1)"
   ]
  },
  {
   "cell_type": "code",
   "execution_count": 91,
   "id": "8ae940c4-f651-45ea-8860-fca1777f7e80",
   "metadata": {},
   "outputs": [
    {
     "data": {
      "text/plain": [
       "array([0., 1.], dtype=float32)"
      ]
     },
     "execution_count": 91,
     "metadata": {},
     "output_type": "execute_result"
    }
   ],
   "source": [
    "tf.keras.layers.Conv2D()"
   ]
  },
  {
   "cell_type": "code",
   "execution_count": null,
   "id": "d93c552d-3df1-4620-a060-977274c3f2c3",
   "metadata": {},
   "outputs": [],
   "source": []
  }
 ],
 "metadata": {
  "kernelspec": {
   "display_name": "Python 3 (ipykernel)",
   "language": "python",
   "name": "python3"
  },
  "language_info": {
   "codemirror_mode": {
    "name": "ipython",
    "version": 3
   },
   "file_extension": ".py",
   "mimetype": "text/x-python",
   "name": "python",
   "nbconvert_exporter": "python",
   "pygments_lexer": "ipython3",
   "version": "3.11.3"
  }
 },
 "nbformat": 4,
 "nbformat_minor": 5
}
