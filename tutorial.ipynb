{
 "cells": [
  {
   "cell_type": "code",
   "execution_count": 1,
   "id": "f4a7ccf1-083b-4251-a0e6-cd8329d1b7c5",
   "metadata": {},
   "outputs": [
    {
     "name": "stderr",
     "output_type": "stream",
     "text": [
      "2023/06/22 15:52:16 INFO mlflow.tracking.fluent: Autologging successfully enabled for sklearn.\n",
      "2023/06/22 15:52:16 INFO mlflow.utils.autologging_utils: Created MLflow autologging run with ID 'ea57914c08f046fc8c2f4adb5412e228', which will track hyperparameters, performance metrics, model artifacts, and lineage information for the current sklearn workflow\n",
      "2023/06/22 15:52:17 WARNING mlflow.utils.autologging_utils: MLflow autologging encountered a warning: \"/home/david/anaconda3/envs/ml_flow/lib/python3.11/site-packages/_distutils_hack/__init__.py:33: UserWarning: Setuptools is replacing distutils.\"\n"
     ]
    }
   ],
   "source": [
    "import mlflow\n",
    "\n",
    "from sklearn.model_selection import train_test_split\n",
    "from sklearn.datasets import load_diabetes\n",
    "from sklearn.ensemble import RandomForestRegressor\n",
    "\n",
    "mlflow.autolog()\n",
    "\n",
    "db = load_diabetes()\n",
    "X_train, X_test, y_train, y_test = train_test_split(db.data, db.target)\n",
    "\n",
    "# Create and train models.\n",
    "rf = RandomForestRegressor(n_estimators=100, max_depth=6, max_features=3)\n",
    "rf.fit(X_train, y_train)\n",
    "\n",
    "# Use the model to make predictions on the test dataset.\n",
    "predictions = rf.predict(X_test)"
   ]
  },
  {
   "cell_type": "code",
   "execution_count": null,
   "id": "109a1bb1-1084-4d36-8232-5b349badcca0",
   "metadata": {},
   "outputs": [],
   "source": [
    "import os\n",
    "from random import random, randint\n",
    "from mlflow import log_metric, log_param, log_params, log_artifacts\n",
    "\n",
    "# Log a parameter (key-value pair)\n",
    "log_param(\"config_value\", randint(0, 100))\n",
    "\n",
    "# Log a dictionary of parameters\n",
    "log_params({\"param1\": randint(0, 100), \"param2\": randint(0, 100)})\n",
    "\n",
    "# Log a metric; metrics can be updated throughout the run\n",
    "log_metric(\"accuracy\", random() / 2.0)\n",
    "log_metric(\"accuracy\", random() + 0.1)\n",
    "log_metric(\"accuracy\", random() + 0.2)\n",
    "\n",
    "# Log an artifact (output file)\n",
    "if not os.path.exists(\"outputs\"):\n",
    "    os.makedirs(\"outputs\")\n",
    "with open(\"outputs/test.txt\", \"w\") as f:\n",
    "    f.write(\"hello world!\")\n",
    "log_artifacts(\"outputs\")"
   ]
  },
  {
   "cell_type": "code",
   "execution_count": 5,
   "id": "99804df5-68ad-46a8-9abe-a1420c26cfb2",
   "metadata": {},
   "outputs": [
    {
     "name": "stdout",
     "output_type": "stream",
     "text": [
      "fish: Unknown command: mlflow\n",
      "fish: \n",
      "mlflow ui\n",
      "^~~~~^\n"
     ]
    }
   ],
   "source": [
    "!mlflow ui"
   ]
  }
 ],
 "metadata": {
  "kernelspec": {
   "display_name": "Python 3 (ipykernel)",
   "language": "python",
   "name": "python3"
  },
  "language_info": {
   "codemirror_mode": {
    "name": "ipython",
    "version": 3
   },
   "file_extension": ".py",
   "mimetype": "text/x-python",
   "name": "python",
   "nbconvert_exporter": "python",
   "pygments_lexer": "ipython3",
   "version": "3.11.3"
  }
 },
 "nbformat": 4,
 "nbformat_minor": 5
}
